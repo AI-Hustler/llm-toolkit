{
 "cells": [
  {
   "cell_type": "code",
   "execution_count": 1,
   "metadata": {},
   "outputs": [],
   "source": [
    "import pickle\n",
    "from openai import OpenAI\n",
    "from dotenv import load_dotenv\n",
    "import numpy as np\n",
    "\n",
    "load_dotenv()\n",
    "\n",
    "client = OpenAI()"
   ]
  },
  {
   "cell_type": "code",
   "execution_count": 2,
   "metadata": {},
   "outputs": [
    {
     "name": "stdout",
     "output_type": "stream",
     "text": [
      "370 (370, 1536)\n"
     ]
    }
   ],
   "source": [
    "#importing created embeddings\n",
    "\n",
    "with open('boeing.pkl', 'rb') as file:\n",
    "    texts, embeddings = pickle.load(file)\n",
    "\n",
    "print(len(texts), embeddings.shape)"
   ]
  },
  {
   "cell_type": "code",
   "execution_count": 3,
   "metadata": {},
   "outputs": [],
   "source": [
    "# function to convert text to embeddings\n",
    "\n",
    "\n",
    "def get_embed(text):\n",
    "    return client.embeddings.create(input = [text],  model = 'text-embedding-3-small').data[0].embedding"
   ]
  },
  {
   "cell_type": "code",
   "execution_count": 4,
   "metadata": {},
   "outputs": [],
   "source": [
    "\n",
    "#question = \"What was total revenue of boeing in 2022, 2021, 2020 respectively?\"\n",
    "#question = 'Tell me about top 5 objectives of Boeing in bullet points'\n",
    "#question = \"Tell me about IT infra of boeing\"\n",
    "question = 'Tell me about subsidiaries or segments for  boeing company?'\n",
    "#question = ' Tell me about revenue of Defense, Space & Security (BDS)'\n",
    "#question = 'Tell me about backlogs of boeing in 2022 , 2021 , 2020 , respectively'ArithmeticError\n",
    "\n",
    "query = get_embed(question)\n",
    "query = np.array(query)\n",
    "query = query/ np.sqrt((query**2).sum())\n",
    "similarities = embeddings.dot(np.transpose(query))\n",
    "sorted_ix = np.argsort(-similarities)"
   ]
  },
  {
   "cell_type": "code",
   "execution_count": 5,
   "metadata": {},
   "outputs": [],
   "source": [
    "files_string = ''\n",
    "files_string=files_string+'###\\n' + texts[sorted_ix[0]] +'###\\n' + texts[sorted_ix[2]] +'###\\n' + texts[sorted_ix[4]] + texts[sorted_ix[3]] + texts[sorted_ix[1]]\n",
    "#print(files_string)"
   ]
  },
  {
   "cell_type": "code",
   "execution_count": 6,
   "metadata": {},
   "outputs": [
    {
     "name": "stdout",
     "output_type": "stream",
     "text": [
      "Based on the given text, Boeing Company operates in four reportable segments:\n",
      "\n",
      "1. Commercial Airplanes (BCA)\n",
      "2. Defense, Space & Security (BDS)\n",
      "3. Global Services (BGS)\n",
      "4. Boeing Capital (BCC)\n",
      "\n",
      "These segments represent the different areas of the company's business operations. It is important to note that the information provided in the text does not include any specific details about subsidiaries or provide further information about the segments.\n"
     ]
    }
   ],
   "source": [
    "\n",
    "completion = client.chat.completions.create(\n",
    "  model=\"gpt-3.5-turbo\",\n",
    "  messages=[\n",
    "    {\"role\": \"system\", \"content\": \"You are a helpful assistant that answers questions based on the context provided.\"},\n",
    "    {\"role\": \"user\", \"content\": f'''\n",
    "    Provide me the answer to the given question: {question} based on the text provided below\n",
    "    {files_string}.\n",
    "    Don't give any answer if the given text/context doesn't have necessary information.\n",
    "    Report numbers if any in millions.\n",
    "    '''}\n",
    "  ]\n",
    ")\n",
    "\n",
    "print(completion.choices[0].message.content)"
   ]
  },
  {
   "cell_type": "code",
   "execution_count": null,
   "metadata": {},
   "outputs": [],
   "source": []
  }
 ],
 "metadata": {
  "kernelspec": {
   "display_name": "base",
   "language": "python",
   "name": "python3"
  },
  "language_info": {
   "codemirror_mode": {
    "name": "ipython",
    "version": 3
   },
   "file_extension": ".py",
   "mimetype": "text/x-python",
   "name": "python",
   "nbconvert_exporter": "python",
   "pygments_lexer": "ipython3",
   "version": "3.10.12"
  },
  "orig_nbformat": 4
 },
 "nbformat": 4,
 "nbformat_minor": 2
}
