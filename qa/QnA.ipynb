{
 "cells": [
  {
   "cell_type": "code",
   "execution_count": 1,
   "metadata": {},
   "outputs": [],
   "source": [
    "import pickle\n",
    "from openai import OpenAI\n",
    "from dotenv import load_dotenv\n",
    "import numpy as np\n",
    "\n",
    "load_dotenv()\n",
    "\n",
    "client = OpenAI()"
   ]
  },
  {
   "cell_type": "code",
   "execution_count": 2,
   "metadata": {},
   "outputs": [
    {
     "name": "stdout",
     "output_type": "stream",
     "text": [
      "370 (370, 1536)\n"
     ]
    }
   ],
   "source": [
    "#importing created embeddings\n",
    "\n",
    "with open('boeing.pkl', 'rb') as file:\n",
    "    texts, embeddings = pickle.load(file)\n",
    "\n",
    "print(len(texts), embeddings.shape)"
   ]
  },
  {
   "cell_type": "code",
   "execution_count": 3,
   "metadata": {},
   "outputs": [],
   "source": [
    "# function to convert text to embeddings\n",
    "\n",
    "\n",
    "def get_embed(text):\n",
    "    return client.embeddings.create(input = [text],  model = 'text-embedding-3-small').data[0].embedding"
   ]
  },
  {
   "cell_type": "code",
   "execution_count": 25,
   "metadata": {},
   "outputs": [],
   "source": [
    "\n",
    "#question = \"What was total revenue of boeing in 2022, 2021, 2020 respectively?\"\n",
    "#question = 'Tell me about top 5 objectives of Boeing in bullet points'\n",
    "#question = \"Tell me about IT infra of boeing\"\n",
    "#question = 'Tell me about subsidiaries or segments for  boeing company?'\n",
    "#question = ' Tell me about revenue of Defense, Space & Security (BDS)'\n",
    "question = 'Tell me about what boeing does and what are its businesses? '\n",
    "\n",
    "query = get_embed(question)\n",
    "query = np.array(query)\n",
    "query = query/ np.sqrt((query**2).sum())\n",
    "similarities = embeddings.dot(np.transpose(query))\n",
    "sorted_ix = np.argsort(-similarities)"
   ]
  },
  {
   "cell_type": "code",
   "execution_count": 26,
   "metadata": {},
   "outputs": [
    {
     "name": "stdout",
     "output_type": "stream",
     "text": [
      "###\n",
      "extensive network of non-U.S. partners, key suppliers and subcontractors.\n",
      "Our strategy is centered on successful execution in healthy core businesses – Commercial Airplanes\n",
      "(BCA), Defense, Space & Security (BDS) and Global Services (BGS) – supplemented and supported by\n",
      "Boeing Capital (BCC). Taken together, these core businesses have historically generated substantial\n",
      "earnings and cash flow that enable our investments in new products and services. We focus on\n",
      "producing the products and providing the services that the market demands, and continue to find new\n",
      "ways to improve efficiency and quality to provide a fair return for our shareholders. BCA is committed to\n",
      "being the leader in commercial aviation by offering airplanes and services that deliver superior design,\n",
      "safety, efficiency and value to customers around the world. BDS integrates its resources in defense,\n",
      "intelligence, communications, security, space and services to deliver capability-driven solutions to\n",
      "customers at reduced costs. Our BDS strategy is to leverage our core businesses to capture key next-\n",
      "generation programs while expanding our presence in adjacent and international markets, underscored\n",
      "by an intense focus on growth and productivity. BGS provides support for commercial and defense\n",
      "through innovative, comprehensive and cost-competitive product and service solutions. BCC facilitates,\n",
      "arranges, structures and provides selective financing solutions for our Boeing customers.\n",
      "Business Environment and Trends\n",
      "Domestic travel continues to recover from the lingering effects of the COVID-19 pandemic before###\n",
      "and growing demand for the products and services we customers’ needs, including 737-7, 737-10, 777X,\n",
      "create, with more than $400 billion in open orders. In KC-46, MQ-25 and the T-7A. That includes classified\n",
      "response to these demands and in light of post-COVID products that serve the U.S. government and NATO\n",
      "supply chain challenges, a priority is making our aircraft allies—which we cannot disclose—along with services\n",
      "production capabilities more predictable and scalable. platforms that cater to a global customer base.\n",
      "We do this work while meeting exacting safety and quality\n",
      "standards that are set by our regulators and customers Boeing is one of the most sophisticated engineering\n",
      "and reflect our values, and I am incredibly proud of the and technology companies in the world. We specialize\n",
      "progress we have made in our journey together. in creating the world’s leading aerospace and defense\n",
      "products and solutions. Prioritizing and expanding\n",
      "Our mission—to protect, connect and explore our large-scale capability investments will help us secure\n",
      "world and beyond—is supported by our unwavering our future.\n",
      "commitment to strengthening safety through continuous\n",
      "improvement, learning and innovation. We will never Additionally, distinctive new capabilities will deliver\n",
      "forget the lives lost in the 737 MAX accidents. Their breakthrough benefits to our customers and reshape our###\n",
      "Global Growth 12\n",
      "sustainability and cultivating a culture and company priorities; our employee\n",
      "based on the company’s core values of demographics and progress toward Celebrating the Past, 14\n",
      "safety, quality and integrity. Learn more achieving equity, diversity and inclusion Embracing the Future\n",
      "at boeing.com. commitments; our sustainability-focused\n",
      "Company Highlights 16\n",
      "environmental, social and governance\n",
      "performance; our community investments Form 10-K 17\n",
      "Watch a video of the\n",
      "and advocacy; and our industry-leading\n",
      "Artemis launch. Caution Concerning 134\n",
      "aerospace market outlooks.\n",
      "Forward-Looking Statements\n",
      "Non-GAAP Measures 135\n",
      "View our Annual\n",
      "Report online and Selected Programs, Products 136\n",
      "learn more about and Services\n",
      "Boeing.\n",
      "Shareholder Information 145\n",
      "Board of Directors 146\n",
      "Company Officers 146\n",
      "1\n",
      "A Letter from Boeing President and CEO David L. Calhoun\n",
      "For more than a century,\n",
      "The Boeing Company\n",
      "has been at the forefront\n",
      "of historic innovations\n",
      "that connect people\n",
      "around the world and\n",
      "beyond. Today, our work\n",
      "continues to help chart\n",
      "the course for the future\n",
      "of aerospace.\n",
      "Every day we work to transform our company to service Our product portfolio spans an impressive array of\n",
      "big defense and commercial needs. There is substantial commercial and defense products that meet ourSafety, quality, integrity and sustainability are at the core of how Boeing operates. We aspire to achieve\n",
      "zero workplace injuries and provide a safe, open and accountable work environment for our employees.\n",
      "Employees are also required on an annual basis to sign the Boeing Code of Conduct to reaffirm their\n",
      "commitment to do their work in a compliant and ethical manner. We provide several channels for all\n",
      "employees to speak up, ask for guidance and report concerns related to ethics or safety violations. We\n",
      "address employee concerns and take appropriate actions that uphold our Boeing values.\n",
      "Competition\n",
      "The commercial jet aircraft market and the airline industry remain extremely competitive. We face\n",
      "aggressive international competitors who are intent on increasing their market share, such as Airbus\n",
      "and entrants from China. We are focused on improving our products and processes and continuing cost\n",
      "reduction efforts. We intend to continue to compete with other aircraft manufacturers by providing\n",
      "customers with airplanes and services that deliver superior design, safety, efficiency and value to\n",
      "customers around the world.\n",
      "BDS faces strong competition primarily from Lockheed Martin Corporation, Northrop Grumman\n",
      "Corporation, Raytheon Technologies Corporation, General Dynamics Corporation and SpaceX. Non-\n",
      "U.S. companies such as BAE Systems and Airbus Group continue to build a strategic presence in the\n",
      "U.S. market by strengthening their North American operations and partnering with U.S. defense\n",
      "companies. In addition, certain competitors have occasionally formed teams with other competitors toBoeing name in Boeing Stratotype created\n",
      "in 1947 celebrates the invention of the large\n",
      "swept-wing jet and the B-47 Stratojet. The\n",
      "37-degree angle of the type was inspired\n",
      "by the B-47’s angle of wing sweep.\n",
      "Our logo serves as a reminder to add our\n",
      "own moments to the Boeing legacy today,\n",
      "tomorrow and beyond as we chart the\n",
      "course for humanity.\n",
      "The Boeing Company Stakeholder-Driven Transparency Contents\n",
      "As a leading global aerospace company, Boeing is committed to transparency. A Letter from Boeing President 2\n",
      "Boeing develops, manufactures and Through our annual disclosure and and CEO David L. Calhoun\n",
      "services commercial airplanes, defense reporting cycle, we compile and share\n",
      "Executive Council 4\n",
      "products and space systems for a broad set of data, information and\n",
      "customers in more than 150 countries. operating examples for our stakeholders, Boeing by the Numbers 5\n",
      "As a top U.S. exporter, the company including our employees, customers,\n",
      "A Commitment to Quality 6\n",
      "leverages the talents of a global supplier industry partners, investors, regulatory\n",
      "base to advance economic opportunity, authorities, communities and others. Sustainable Aerospace 8\n",
      "sustainability and community impact. Using the most widely applicable\n",
      "Boeing’s diverse team is committed to disclosure frameworks, Boeing reports Supporting STEM Careers 10\n",
      "innovating for the future, leading with each year on our financial performance\n"
     ]
    }
   ],
   "source": [
    "files_string = ''\n",
    "files_string=files_string+'###\\n' + texts[sorted_ix[0]] +'###\\n' + texts[sorted_ix[2]] +'###\\n' + texts[sorted_ix[4]] + texts[sorted_ix[3]] + texts[sorted_ix[1]]\n",
    "print(files_string)"
   ]
  },
  {
   "cell_type": "code",
   "execution_count": 27,
   "metadata": {},
   "outputs": [
    {
     "name": "stdout",
     "output_type": "stream",
     "text": [
      "Boeing is a company that specializes in aerospace and defense products and solutions. They have several core businesses which include Commercial Airplanes (BCA), Defense, Space & Security (BDS), and Global Services (BGS). Boeing Capital (BCC) provides financing solutions for Boeing customers. BCA focuses on being a leader in commercial aviation by offering airplanes and services with superior design, safety, efficiency, and value. BDS delivers capability-driven solutions in defense, intelligence, communications, security, space, and services. BGS provides support for commercial and defense through comprehensive and cost-competitive product and service solutions. Overall, Boeing is known for its engineering and technology expertise in the aerospace industry.\n"
     ]
    }
   ],
   "source": [
    "\n",
    "completion = client.chat.completions.create(\n",
    "  model=\"gpt-3.5-turbo\",\n",
    "  messages=[\n",
    "    {\"role\": \"system\", \"content\": \"You are a helpful assistant that answers questions based on the context provided.\"},\n",
    "    {\"role\": \"user\", \"content\": f'''\n",
    "    Provide me the answer to the given question: {question} based on the text provided below\n",
    "    {files_string}.\n",
    "    Don't give any answer if the given text/context doesn't have necessary information.\n",
    "    Report numbers if any in millions.\n",
    "    '''}\n",
    "  ]\n",
    ")\n",
    "\n",
    "print(completion.choices[0].message.content)"
   ]
  },
  {
   "cell_type": "code",
   "execution_count": null,
   "metadata": {},
   "outputs": [],
   "source": []
  },
  {
   "cell_type": "code",
   "execution_count": null,
   "metadata": {},
   "outputs": [],
   "source": []
  }
 ],
 "metadata": {
  "kernelspec": {
   "display_name": "base",
   "language": "python",
   "name": "python3"
  },
  "language_info": {
   "codemirror_mode": {
    "name": "ipython",
    "version": 3
   },
   "file_extension": ".py",
   "mimetype": "text/x-python",
   "name": "python",
   "nbconvert_exporter": "python",
   "pygments_lexer": "ipython3",
   "version": "3.10.12"
  },
  "orig_nbformat": 4
 },
 "nbformat": 4,
 "nbformat_minor": 2
}
